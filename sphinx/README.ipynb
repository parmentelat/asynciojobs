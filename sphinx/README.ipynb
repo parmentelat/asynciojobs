{
 "cells": [
  {
   "cell_type": "markdown",
   "metadata": {},
   "source": [
    "# README"
   ]
  },
  {
   "cell_type": "markdown",
   "metadata": {},
   "source": [
    "## A simple orchestration engine for `asyncio`\n",
    "\n",
    "The main and single purpose of this library is to allow for the static description of scenarii involving `asyncio`-compliant jobs, that have dependencies in the sense that a given job cannot start until its requirements have not completed.\n",
    "\n",
    "So in a nutshell you would:\n",
    "\n",
    "* define a set of `Job` objects, \n",
    "* together with their `requires` relationship; that is to say, for each of them, which other jobs need to have completed before this one can be triggered,\n",
    "* and run this logic through an `Scheduler` object, that will orchestrate the whole scenario."
   ]
  },
  {
   "cell_type": "markdown",
   "metadata": {},
   "source": [
    "Further features allow to\n",
    "\n",
    "* define a job as *critical* or not; a critical job that raises an exception causes the orchestration to terminate abruptly;\n",
    "* define a job as running *forever*, in which case the scheduler of course won't wait for it, but instead will terminate it when all other jobs are done;\n",
    "* define a global `timeout` for the whole scheduler;\n",
    "* define a *window* in terms of a maximal number of simultaneous jobs that are allowed to run;\n",
    "* define *nested* schedulers: a `Scheduler` instance being also a job, a scheduler can be inserted in another scheduler just as if it were a re gular job; nested schedulers allow for reusability, since workflow pieces can be for example returned by regular python functions."
   ]
  },
  {
   "cell_type": "markdown",
   "metadata": {},
   "source": [
    "A job object can be created:\n",
    "\n",
    "* either as a `Job` instance from a regular asyncio coroutine;\n",
    "* or by specializing the `AbstractJob` class, and defining its `co_run()` method; this is for example the case for the `SshJob` in the [`apssh` library](http://apssh.readthedocs.io).\n",
    "\n",
    "As a convenience, the `Sequence` class is a helper class that can free you from manually managing the `requires` deps in long strings of jobs that must run sequentially."
   ]
  },
  {
   "cell_type": "markdown",
   "metadata": {},
   "source": [
    "## Full documentation"
   ]
  },
  {
   "cell_type": "markdown",
   "metadata": {},
   "source": [
    "This document, along with `asynciojobs`'s API reference documentation, and changelog, is available at <http://asynciojobs.readthedocs.io>"
   ]
  },
  {
   "cell_type": "markdown",
   "metadata": {},
   "source": [
    "**Contact author**: *thierry dot parmentelat at inria dot fr*"
   ]
  },
  {
   "cell_type": "markdown",
   "metadata": {},
   "source": [
    "**Licence**: CC BY-NC-ND"
   ]
  },
  {
   "cell_type": "markdown",
   "metadata": {},
   "source": [
    "## Installing"
   ]
  },
  {
   "cell_type": "markdown",
   "metadata": {},
   "source": [
    "`asynciojobs` can be installed from the pypi repository:"
   ]
  },
  {
   "cell_type": "markdown",
   "metadata": {},
   "source": [
    "```\n",
    "pip install asynciojobs\n",
    "```"
   ]
  },
  {
   "attachments": {},
   "cell_type": "markdown",
   "metadata": {},
   "source": [
    "### Extra dependencies \n",
    "\n",
    "- `pip install \"asynciojobs[graph]\"`\n",
    "  if you intend on using graphviz for visualizing graphs in notebooks\n",
    "- `pip install \"asynciojobs[ordered]\"\n",
    "  if you want asynciojobs to create ordered sets instead of regular sets\n",
    "- see also `pyproject.toml` for other more dev-oriented extra deps"
   ]
  },
  {
   "cell_type": "markdown",
   "metadata": {},
   "source": [
    "## Examples"
   ]
  },
  {
   "cell_type": "code",
   "execution_count": null,
   "metadata": {},
   "outputs": [],
   "source": [
    "import asyncio"
   ]
  },
  {
   "cell_type": "markdown",
   "metadata": {},
   "source": [
    "In all our examples, we will use the `Watch` class, it is a helper class that works like a stopwatch; instead of printing the current time, we prefer to display running time from the *beginning*, which corresponds to the time where the watch instance is created or reset:"
   ]
  },
  {
   "cell_type": "code",
   "execution_count": null,
   "metadata": {},
   "outputs": [],
   "source": [
    "import time\n",
    "from asynciojobs import Watch\n",
    "\n",
    "watch = Watch()\n",
    "time.sleep(0.5)\n",
    "watch.print_elapsed('some')"
   ]
  },
  {
   "cell_type": "markdown",
   "metadata": {},
   "source": [
    "We can now write a simple coroutine for illustrating schedulers through small examples:"
   ]
  },
  {
   "cell_type": "code",
   "execution_count": null,
   "metadata": {},
   "outputs": [],
   "source": [
    "import time\n",
    "\n",
    "watch = Watch()\n",
    "\n",
    "# just print a message when entering and exiting, and sleep in the middle\n",
    "async def in_out(timeout):\n",
    "    global watch\n",
    "    watch.print_elapsed(\"-> in_out({})\\n\".format(timeout))\n",
    "    await asyncio.sleep(timeout)\n",
    "    watch.print_elapsed(\"<- in_out({})\\n\".format(timeout))\n",
    "    # return something easy to recognize: the number of milliseconds\n",
    "    return 1000 * timeout"
   ]
  },
  {
   "cell_type": "markdown",
   "metadata": {},
   "source": [
    "### Example A : running in parallel"
   ]
  },
  {
   "cell_type": "markdown",
   "metadata": {},
   "source": [
    "Running a series of coroutines in parallel - a la `gather` - can be done like this:"
   ]
  },
  {
   "cell_type": "code",
   "execution_count": null,
   "metadata": {},
   "outputs": [],
   "source": [
    "from asynciojobs import Job, Scheduler"
   ]
  },
  {
   "cell_type": "code",
   "execution_count": null,
   "metadata": {},
   "outputs": [],
   "source": [
    "a1, a2, a3 = Job(in_out(0.1)), Job(in_out(0.2)), Job(in_out(0.25)),"
   ]
  },
  {
   "cell_type": "markdown",
   "metadata": {},
   "source": [
    "What we're saying here is that we have three jobs, that have no relationships between them. \n",
    "\n",
    "So when we run them, we would start all 3 coroutines at once, and return once they are all done:"
   ]
  },
  {
   "cell_type": "code",
   "execution_count": null,
   "metadata": {},
   "outputs": [],
   "source": [
    "# this is required in our case because our coroutines\n",
    "# use watch to show time elapsed since reset()\n",
    "watch.reset()\n",
    "\n",
    "sa = Scheduler(a1, a2, a3)\n",
    "sa"
   ]
  },
  {
   "cell_type": "code",
   "execution_count": null,
   "metadata": {},
   "outputs": [],
   "source": [
    "await sa.co_run()"
   ]
  },
  {
   "cell_type": "markdown",
   "metadata": {},
   "source": [
    "**Note**: here we take advantage of IPython's ability to perform `await`s right at the toplevel; there's also a `run()` method on schedulers, that is a regular - blocking - Python function. As of release 0.19, `asynciojobs` no longer explicitly calls `get_event_loop()` because its use is way too ambiguous nowadays."
   ]
  },
  {
   "cell_type": "markdown",
   "metadata": {},
   "source": [
    "### Several programming styles"
   ]
  },
  {
   "cell_type": "markdown",
   "metadata": {},
   "source": [
    "The library offers great flexibility for creating schedulers and jobs. In particular in the example above, we have created the jobs first, and then added them to the scheduler; it is possible to do it the other way around, like this totally equivalent construction:"
   ]
  },
  {
   "cell_type": "code",
   "execution_count": null,
   "metadata": {},
   "outputs": [],
   "source": [
    "# if it is more to your taste, you can as well\n",
    "# create the scheduler first\n",
    "sa2 = Scheduler()\n",
    "\n",
    "# and then add jobs in it as you create them\n",
    "a1, a2 = Job(in_out(0.1), scheduler=sa2), Job(in_out(0.2), scheduler=sa2)\n",
    "\n",
    "# or add them later on\n",
    "a3 = Job(in_out(0.25))\n",
    "sa2.add(a3)"
   ]
  },
  {
   "cell_type": "code",
   "execution_count": null,
   "metadata": {},
   "outputs": [],
   "source": [
    "watch.reset()\n",
    "await sa2.co_run()"
   ]
  },
  {
   "cell_type": "markdown",
   "metadata": {},
   "source": [
    "### Retrieving individual results"
   ]
  },
  {
   "cell_type": "markdown",
   "metadata": {},
   "source": [
    "We can see right away how to retrieve the results of the various jobs"
   ]
  },
  {
   "cell_type": "code",
   "execution_count": null,
   "metadata": {},
   "outputs": [],
   "source": [
    "a1.result()"
   ]
  },
  {
   "cell_type": "markdown",
   "metadata": {},
   "source": [
    "### Example B : adding requirements (dependencies)"
   ]
  },
  {
   "cell_type": "markdown",
   "metadata": {},
   "source": [
    "Now we can add *requirements* dependencies between jobs, as follows. Here we want to run:\n",
    " \n",
    "* job 1 followed by job 2\n",
    "* all this in parallel with job 3\n",
    "\n",
    "We take this chance to show that jobs can be tagged with a label, which can be convenient for a more friendly display."
   ]
  },
  {
   "cell_type": "code",
   "execution_count": null,
   "metadata": {},
   "outputs": [],
   "source": [
    "b1, b2, b3 = (Job(in_out(0.1), label=\"b1\"),\n",
    "              Job(in_out(0.2), label=\"b2\"),\n",
    "              Job(in_out(0.25)))\n",
    "\n",
    "b2.requires(b1)"
   ]
  },
  {
   "cell_type": "markdown",
   "metadata": {},
   "source": [
    "Now `b2` needs `b1` to be finished before it can start. And so only the 2 first coroutines get started at the beginning, and only once b1 has finished does b2 start."
   ]
  },
  {
   "cell_type": "code",
   "execution_count": null,
   "metadata": {},
   "outputs": [],
   "source": [
    "watch.reset()\n",
    "\n",
    "# with this setup we are certain that b3 ends in the middle of b2\n",
    "sb = Scheduler(b1, b2, b3)\n",
    "await sb.co_run()"
   ]
  },
  {
   "cell_type": "markdown",
   "metadata": {},
   "source": [
    "### Example B' : exact same using a `Sequence`\n",
    "\n",
    "The code above in example B is exactly identical to this:"
   ]
  },
  {
   "cell_type": "code",
   "execution_count": null,
   "metadata": {},
   "outputs": [],
   "source": [
    "from asynciojobs import Sequence\n",
    "\n",
    "sb2 = Scheduler(\n",
    "    Sequence(Job(in_out(0.1), label=\"bp1\"),\n",
    "             Job(in_out(0.2), label=\"bp2\")),\n",
    "    Job(in_out(0.25)))"
   ]
  },
  {
   "cell_type": "code",
   "execution_count": null,
   "metadata": {},
   "outputs": [],
   "source": [
    "watch.reset()\n",
    "\n",
    "await sb2.co_run()"
   ]
  },
  {
   "cell_type": "markdown",
   "metadata": {},
   "source": [
    "### Return value for `Scheduler.run()` "
   ]
  },
  {
   "cell_type": "markdown",
   "metadata": {},
   "source": [
    "Note that because `sb.run()` had returned `True`, we could have inferred that all jobs have completed. As a matter of fact, `run()` returns `True` **if and only if**:\n",
    "\n",
    "* all jobs have completed during the allocated timeout, if specified, and\n",
    "* no critical job has raised an exception."
   ]
  },
  {
   "cell_type": "markdown",
   "metadata": {},
   "source": [
    "**Note**:\n",
    "\n",
    "What happens if these two conditions are not met depends on the `critical` attribute on the scheduler object:\n",
    "\n",
    "* if scheduler is **not critical**: then if any of these conditions is not met, `run()` **returns `False`**;\n",
    "* if scheduler is itself **critical**, then `run()` will **raise an exception**, depending on the reason behind the failure, see [co_run()](http://asynciojobs.readthedocs.io/en/latest/API.html#asynciojobs.scheduler.Scheduler.co_run) for details.\n",
    "\n",
    "This behaviour has been chosen so that nested schedulers do the right thing: it allows exceptions to bubble from inner schedulers up to the toplevel one, and to trigger its abrupt termination.\n",
    "\n",
    "See also [failed_critical()](http://asynciojobs.readthedocs.io/en/latest/API.html#asynciojobs.purescheduler.PureScheduler.failed_critical), \n",
    "[failed_time_out()](http://asynciojobs.readthedocs.io/en/latest/API.html#asynciojobs.purescheduler.PureScheduler.failed_time_out),\n",
    "[debrief()](http://asynciojobs.readthedocs.io/en/latest/API.html#asynciojobs.purescheduler.PureScheduler.debrief)\n",
    "and [why()](http://asynciojobs.readthedocs.io/en/latest/API.html#asynciojobs.purescheduler.PureScheduler.why)."
   ]
  },
  {
   "cell_type": "markdown",
   "metadata": {},
   "source": [
    "### Inspecting scheduler and results - `Scheduler.list()`\n",
    "\n",
    "Before we see more examples, let's see more ways to get information about what happened once `run` finishes.\n",
    "For example to check that job `b1` has completed:"
   ]
  },
  {
   "cell_type": "code",
   "execution_count": null,
   "metadata": {},
   "outputs": [],
   "source": [
    "print(b1.is_done())"
   ]
  },
  {
   "cell_type": "markdown",
   "metadata": {},
   "source": [
    "To check that job `b3` has not raised an exception:"
   ]
  },
  {
   "cell_type": "code",
   "execution_count": null,
   "metadata": {},
   "outputs": [],
   "source": [
    "print(b3.raised_exception())"
   ]
  },
  {
   "cell_type": "markdown",
   "metadata": {},
   "source": [
    "To see an overview of a scheduler, just use the `list()` method that will summarize the contents of a scheduler:"
   ]
  },
  {
   "cell_type": "code",
   "execution_count": null,
   "metadata": {},
   "outputs": [],
   "source": [
    "sb.list()"
   ]
  },
  {
   "cell_type": "markdown",
   "metadata": {},
   "source": [
    "The textual representation displayed by `list()` shows all the jobs, with:\n",
    "* its rank in the topological order of the graph (graphs with cycles will need to use `list_safe()`)\n",
    "* its progress wrt the job's lifecycle,\n",
    "* its label, or some computed label if not specified,\n",
    "* its result or exception if the job has run\n",
    "* its requirements."
   ]
  },
  {
   "cell_type": "markdown",
   "metadata": {},
   "source": [
    "The individual lifecycle for a job instance is:\n",
    "\n",
    "idle → scheduled → running → done\n",
    "\n",
    "where the 'scheduled' state is for cases where a maximal number of simulataneous jobs has been reached - see `jobs_window` - so the job essentially has all its requirements fulfilled but still waits for its turn."
   ]
  },
  {
   "cell_type": "markdown",
   "metadata": {},
   "source": [
    "With that in mind, here is a complete list of the symbols used, with their meaning:\n",
    "\n",
    "* `⚐` : idle (read: requirements are not fulfilled)\n",
    "* `⚑` : scheduled (read: waiting for a slot in the jobs window)\n",
    "* `↺` : running\n",
    "* `☓` : complete \n",
    "* `★` : raised an exception\n",
    "* `☉` : went through fine (no exception raised)\n",
    "* `⚠` : defined as critical\n",
    "* `∞` : defined as forever  "
   ]
  },
  {
   "cell_type": "markdown",
   "metadata": {},
   "source": [
    "And and here's an example of output for `list()` with all possible combinations of jobs:\n",
    "\n",
    "```\n",
    "01 ⚠   ⚐ ∞ <J `forever=True crit.=True status=idle boom=False`>\n",
    "02 ⚠   ⚐   <J `forever=False crit.=True status=idle boom=False`> - requires {01}\n",
    "03     ⚐ ∞ <J `forever=True crit.=False status=idle boom=False`> - requires {02}\n",
    "04     ⚐   <J `forever=False crit.=False status=idle boom=False`> - requires {03}\n",
    "05 ⚠   ⚑ ∞ <J `forever=True crit.=True status=scheduled boom=False`> - requires {04}\n",
    "06 ⚠   ⚑   <J `forever=False crit.=True status=scheduled boom=False`> - requires {05}\n",
    "07     ⚑ ∞ <J `forever=True crit.=False status=scheduled boom=False`> - requires {06}\n",
    "08     ⚑   <J `forever=False crit.=False status=scheduled boom=False`> - requires {07}\n",
    "09 ⚠ ☉ ↺ ∞ <J `forever=True crit.=True status=running boom=False`> - requires {08}\n",
    "10 ⚠ ☉ ↺   <J `forever=False crit.=True status=running boom=False`> - requires {09}\n",
    "11   ☉ ↺ ∞ <J `forever=True crit.=False status=running boom=False`> - requires {10}\n",
    "12   ☉ ↺   <J `forever=False crit.=False status=running boom=False`> - requires {11}\n",
    "13 ⚠ ★ ☓ ∞ <J `forever=True crit.=True status=done boom=True`>!! CRIT. EXC. => bool:True!! - requires {12}\n",
    "14 ⚠ ★ ☓   <J `forever=False crit.=True status=done boom=True`>!! CRIT. EXC. => bool:True!! - requires {13}\n",
    "15   ★ ☓ ∞ <J `forever=True crit.=False status=done boom=True`>!! exception => bool:True!! - requires {14}\n",
    "16   ★ ☓   <J `forever=False crit.=False status=done boom=True`>!! exception => bool:True!! - requires {15}\n",
    "17 ⚠ ☉ ☓ ∞ <J `forever=True crit.=True status=done boom=False`>[[ -> 0]] - requires {16}\n",
    "18 ⚠ ☉ ☓   <J `forever=False crit.=True status=done boom=False`>[[ -> 0]] - requires {17}\n",
    "19   ☉ ☓ ∞ <J `forever=True crit.=False status=done boom=False`>[[ -> 0]] - requires {18}\n",
    "20   ☉ ☓   <J `forever=False crit.=False status=done boom=False`>[[ -> 0]] - requires {19}\n",
    "```\n",
    "\n",
    "Note that if your locale/terminal cannot output these, the code will tentatively resort to pure ASCII output."
   ]
  },
  {
   "cell_type": "markdown",
   "metadata": {},
   "source": [
    "### Graphical representation"
   ]
  },
  {
   "cell_type": "markdown",
   "metadata": {},
   "source": [
    "It is easy to get a graphical representation of a scheduler. From inside a jupyter notebook, you would just need to do e.g.\n",
    "\n",
    "    sb2.graph()\n",
    "\n",
    "However, in the context of readthedocs, this notebook is translated into a static markdown file, so we cannot use this elegant approach. Instead, we use a more rustic workflow, that first creates the graph as a dot file, and then uses an external tool to produce a png file:"
   ]
  },
  {
   "cell_type": "code",
   "execution_count": null,
   "metadata": {},
   "outputs": [],
   "source": [
    "# this can always be done, it does not require graphviz to be installed\n",
    "sb2.export_as_dotfile(\"readme-example-b.dot\")"
   ]
  },
  {
   "cell_type": "code",
   "execution_count": null,
   "metadata": {},
   "outputs": [],
   "source": [
    "# assuming you have the 'dot' program installed (it ships with graphviz)\n",
    "\n",
    "import os\n",
    "\n",
    "os.system(\"dot -Tpng readme-example-b.dot -o readme-example-b.png\")"
   ]
  },
  {
   "cell_type": "markdown",
   "metadata": {},
   "source": [
    "We can now look at the result, where you can recognize the logic of example B:\n",
    "\n",
    "![example B as a png file](readme-example-b.png)"
   ]
  },
  {
   "cell_type": "markdown",
   "metadata": {},
   "source": [
    "### Example C : infinite loops, or coroutines that don't return"
   ]
  },
  {
   "cell_type": "markdown",
   "metadata": {},
   "source": [
    "Sometimes it is useful to deal with a endless loop; for example if we want to separate completely actions and printing, we can use an `asyncio.Queue` to implement a simple message bus as follows:"
   ]
  },
  {
   "cell_type": "code",
   "execution_count": null,
   "metadata": {},
   "outputs": [],
   "source": [
    "message_bus = asyncio.Queue()\n",
    "\n",
    "async def monitor_loop(bus):\n",
    "    while True:\n",
    "        message = await bus.get()\n",
    "        print(\"BUS: {}\".format(message))"
   ]
  },
  {
   "cell_type": "markdown",
   "metadata": {},
   "source": [
    "Now we need a modified version of the `in_out` coroutine, that interacts with this message bus instead of printing anything itself&nbsp;:"
   ]
  },
  {
   "cell_type": "code",
   "execution_count": null,
   "metadata": {},
   "outputs": [],
   "source": [
    "async def in_out_bus(timeout, bus):\n",
    "    global watch\n",
    "    await bus.put(\"{} -> in_out({})\".format(watch.elapsed(), timeout))\n",
    "    await asyncio.sleep(timeout)\n",
    "    await bus.put(\"{} <- in_out({})\".format(watch.elapsed(), timeout))\n",
    "    # return something easy to recognize\n",
    "    return 10 * timeout"
   ]
  },
  {
   "cell_type": "markdown",
   "metadata": {},
   "source": [
    "We can replay the prevous scenario, adding the monitoring loop as a separate job.\n",
    "\n",
    "However, we need to declare this extra job with `forever=True`, so that the scheduler knows it **does not have to wait** for the monitoring loop, as we know in advance that this monitoring loop will, by design, never return."
   ]
  },
  {
   "cell_type": "code",
   "execution_count": null,
   "metadata": {},
   "outputs": [],
   "source": [
    "c1, c2, c3, c4 = (Job(in_out_bus(0.2, message_bus), label=\"c1\"),\n",
    "                  Job(in_out_bus(0.4, message_bus), label=\"c2\"), \n",
    "                  Job(in_out_bus(0.3, message_bus), label=\"c3\"),\n",
    "                  Job(monitor_loop(message_bus), forever=True, label=\"monitor\"))\n",
    "\n",
    "c3.requires(c1)"
   ]
  },
  {
   "cell_type": "code",
   "execution_count": null,
   "metadata": {},
   "outputs": [],
   "source": [
    "watch.reset()\n",
    "\n",
    "sc = Scheduler(c1, c2, c3, c4)\n",
    "await sc.co_run()"
   ]
  },
  {
   "cell_type": "markdown",
   "metadata": {},
   "source": [
    "Note that `run()` always terminates as soon as all the non-`forever` jobs are complete. The `forever` jobs, on the other hand, get cancelled, so of course no return value is available at the end of the scenario&nbsp;:"
   ]
  },
  {
   "cell_type": "code",
   "execution_count": null,
   "metadata": {},
   "outputs": [],
   "source": [
    "sc.list()"
   ]
  },
  {
   "cell_type": "markdown",
   "metadata": {},
   "source": [
    "Forever jobs appear with a dotted border on a graphical representation:"
   ]
  },
  {
   "cell_type": "code",
   "execution_count": null,
   "metadata": {},
   "outputs": [],
   "source": [
    "# a function to materialize the rustic way of producing a graphical representation\n",
    "def make_png(scheduler, prefix):\n",
    "    dotname = \"{}.dot\".format(prefix)\n",
    "    pngname = \"{}.png\".format(prefix)\n",
    "    scheduler.export_as_dotfile(dotname)\n",
    "    os.system(\"dot -Tpng {dotname} -o {pngname}\".format(**locals()))\n",
    "    print(pngname)"
   ]
  },
  {
   "cell_type": "code",
   "execution_count": null,
   "metadata": {},
   "outputs": [],
   "source": [
    "make_png(sc, \"readme-example-c\")"
   ]
  },
  {
   "cell_type": "markdown",
   "metadata": {},
   "source": [
    "![example-c](readme-example-c.png)"
   ]
  },
  {
   "cell_type": "markdown",
   "metadata": {},
   "source": [
    "**Note**: a scheduler being essentially a **set** of jobs, the order of creation of jobs in the scheduler is not preserved in memory."
   ]
  },
  {
   "cell_type": "markdown",
   "metadata": {},
   "source": [
    "### Example D : specifying a global timeout"
   ]
  },
  {
   "cell_type": "markdown",
   "metadata": {},
   "source": [
    "A `Scheduler` object has a `timeout` attribute, that can be set to a duration (in seconds). When provided, `run()` will ensure its global duration does not exceed this value, and will return `False` or raise `TimeoutError` if the timeout triggers.\n",
    "\n",
    "Of course this can be used with any number of jobs and dependencies, but for the sake of simplicity let us see this in action with just one job that loops forever:"
   ]
  },
  {
   "cell_type": "code",
   "execution_count": null,
   "metadata": {},
   "outputs": [],
   "source": [
    "async def forever():\n",
    "    global watch\n",
    "    for i in range(100000):\n",
    "        print(\"{}: forever {}\".format(watch.elapsed(), i))\n",
    "        await asyncio.sleep(.1)\n",
    "        \n",
    "j = Job(forever(), forever=True)"
   ]
  },
  {
   "cell_type": "code",
   "execution_count": null,
   "metadata": {},
   "outputs": [],
   "source": [
    "watch.reset()\n",
    "sd = Scheduler(j, timeout=0.25, critical=False)\n",
    "\n",
    "await sd.co_run()"
   ]
  },
  {
   "cell_type": "markdown",
   "metadata": {},
   "source": [
    "As you can see the result of `run()` in this case is `False`, since not all jobs have completed. Apart from that the jobs is now in this state:"
   ]
  },
  {
   "cell_type": "code",
   "execution_count": null,
   "metadata": {},
   "outputs": [],
   "source": [
    "j"
   ]
  },
  {
   "cell_type": "markdown",
   "metadata": {},
   "source": [
    "### Handling exceptions"
   ]
  },
  {
   "cell_type": "markdown",
   "metadata": {},
   "source": [
    "A job instance can be **critical** or not; what this means is as follows:\n",
    "\n",
    " * if a critical job raises an exception, the whole scheduler aborts immediately and returns `False`;\n",
    " * if a non-critical job raises an exception, the whole scheduler proceeds regardless.\n",
    " \n",
    "In both cases the exception can be retrieved in the corresponding Job object with `raised_exception()`."
   ]
  },
  {
   "cell_type": "markdown",
   "metadata": {},
   "source": [
    "### Example E : non critical jobs"
   ]
  },
  {
   "cell_type": "code",
   "execution_count": null,
   "metadata": {},
   "outputs": [],
   "source": [
    "async def boom(n):\n",
    "    await asyncio.sleep(n)\n",
    "    raise Exception(\"boom after {}s\".format(n))"
   ]
  },
  {
   "cell_type": "code",
   "execution_count": null,
   "metadata": {},
   "outputs": [],
   "source": [
    "# by default everything is non critical\n",
    "e1 = Job(in_out(0.2), label='begin')\n",
    "e2 = Job(boom(0.2), label=\"boom\", critical=False)\n",
    "e3 = Job(in_out(0.3), label='end')\n",
    "\n",
    "se = Scheduler(Sequence(e1, e2, e3), critical=False)"
   ]
  },
  {
   "cell_type": "code",
   "execution_count": null,
   "metadata": {},
   "outputs": [],
   "source": [
    "# with these settings, jobs 'end' is not hindered \n",
    "# by the middle job raising an exception\n",
    "watch.reset()\n",
    "await se.co_run()"
   ]
  },
  {
   "cell_type": "code",
   "execution_count": null,
   "metadata": {},
   "outputs": [],
   "source": [
    "# in this listing you can see that job 'end' \n",
    "# has been running and has returned '300' as expected\n",
    "se.list()"
   ]
  },
  {
   "cell_type": "markdown",
   "metadata": {},
   "source": [
    "Non-critical jobs and schedulers show up with a thin and black border:"
   ]
  },
  {
   "cell_type": "code",
   "execution_count": null,
   "metadata": {},
   "outputs": [],
   "source": [
    "make_png(se, \"readme-example-e\")"
   ]
  },
  {
   "cell_type": "markdown",
   "metadata": {},
   "source": [
    "![example E](readme-example-e.png)"
   ]
  },
  {
   "cell_type": "markdown",
   "metadata": {},
   "source": [
    "### Example F : critical jobs"
   ]
  },
  {
   "cell_type": "markdown",
   "metadata": {},
   "source": [
    "Making the *boom* job critical would instead cause the scheduler to bail out:"
   ]
  },
  {
   "cell_type": "code",
   "execution_count": null,
   "metadata": {},
   "outputs": [],
   "source": [
    "f1 = Job(in_out(0.2), label=\"begin\")\n",
    "f2 = Job(boom(0.2), label=\"boom\", critical=True)\n",
    "f3 = Job(in_out(0.3), label=\"end\")\n",
    "\n",
    "sf = Scheduler(Sequence(f1, f2, f3), critical=False)"
   ]
  },
  {
   "cell_type": "code",
   "execution_count": null,
   "metadata": {},
   "outputs": [],
   "source": [
    "# with this setup, orchestration stops immediately\n",
    "# when the exception triggers in boom()\n",
    "# and the last job does not run at all\n",
    "watch.reset()\n",
    "\n",
    "await sf.co_run()"
   ]
  },
  {
   "cell_type": "code",
   "execution_count": null,
   "metadata": {},
   "outputs": [],
   "source": [
    "# as you can see, job 'end' has not even started here\n",
    "sf.list()"
   ]
  },
  {
   "cell_type": "markdown",
   "metadata": {},
   "source": [
    "Critical jobs and schedulers show up with a thick and red border:"
   ]
  },
  {
   "cell_type": "code",
   "execution_count": null,
   "metadata": {},
   "outputs": [],
   "source": [
    "make_png(sf, \"readme-example-f\")"
   ]
  },
  {
   "cell_type": "markdown",
   "metadata": {},
   "source": [
    "![example F](readme-example-f.png)"
   ]
  },
  {
   "cell_type": "markdown",
   "metadata": {},
   "source": [
    "### Limiting the number of simultaneous jobs"
   ]
  },
  {
   "cell_type": "markdown",
   "metadata": {},
   "source": [
    "A `Scheduler` has a `jobs_window` attribute that allows to specify a maximum number of jobs running simultaneously. \n",
    "\n",
    "When `jobs_windows` is not specified or `0`, it means no limit is imposed on the running jobs."
   ]
  },
  {
   "cell_type": "code",
   "execution_count": null,
   "metadata": {},
   "outputs": [],
   "source": [
    "# let's define a simple coroutine\n",
    "async def aprint(message, delay=0.5):\n",
    "     print(message)\n",
    "     await asyncio.sleep(delay)"
   ]
  },
  {
   "cell_type": "code",
   "execution_count": null,
   "metadata": {},
   "outputs": [],
   "source": [
    "# let us now add 8 jobs that take 0.5 second each\n",
    "s = Scheduler(jobs_window=4)\n",
    "\n",
    "for i in range(1, 9):\n",
    "    s.add(Job(aprint(\"{} {}-th job\".format(watch.elapsed(), i), 0.5)))"
   ]
  },
  {
   "cell_type": "code",
   "execution_count": null,
   "metadata": {},
   "outputs": [],
   "source": [
    "# so running them with a window of 4 means approx. 1 second\n",
    "watch.reset()\n",
    "\n",
    "await s.co_run()\n",
    "\n",
    "# expect around 1 second\n",
    "print(\"total duration = {}s\".format(watch.elapsed()))"
   ]
  },
  {
   "cell_type": "markdown",
   "metadata": {},
   "source": [
    "## Nesting schedulers"
   ]
  },
  {
   "cell_type": "markdown",
   "metadata": {},
   "source": [
    "As mentioned in the introduction, a `Scheduler` instance can itself be used as a job. This makes it easy to split complex scenarii into pieces, and to combine them in a modular way.\n",
    "\n",
    "Let us consider the following example:"
   ]
  },
  {
   "cell_type": "code",
   "execution_count": null,
   "metadata": {},
   "outputs": [],
   "source": [
    "# we start with the creation of an internal scheduler\n",
    "# that has a simple diamond structure\n",
    "\n",
    "sub_sched = Scheduler(label=\"critical nested\", critical=True)\n",
    "subj1 = Job(aprint(\"subj1\"), label='subj1', scheduler=sub_sched)\n",
    "subj2 = Job(aprint(\"subj2\"), label='subj2', required=subj1, scheduler=sub_sched)\n",
    "subj3 = Job(aprint(\"subj3\"), label='subj3', required=subj1, scheduler=sub_sched)\n",
    "subj4 = Job(aprint(\"subj4\"), label='subj4', required=(subj2, subj3), scheduler=sub_sched)"
   ]
  },
  {
   "cell_type": "code",
   "execution_count": null,
   "metadata": {},
   "outputs": [],
   "source": [
    "make_png(sub_sched, \"readme-subscheduler\")"
   ]
  },
  {
   "cell_type": "markdown",
   "metadata": {},
   "source": [
    "![internal scheduler](readme-subscheduler.png)"
   ]
  },
  {
   "cell_type": "markdown",
   "metadata": {},
   "source": [
    "We can now create a main scheduler, in which **one of the jobs is this low-level scheduler**:"
   ]
  },
  {
   "cell_type": "code",
   "execution_count": null,
   "metadata": {},
   "outputs": [],
   "source": [
    "# the main scheduler\n",
    "main_sched = Scheduler(\n",
    "    Sequence(\n",
    "        Job(aprint(\"main-start\"), label=\"main-start\"),\n",
    "        # the way to graft the low-level logic in this main workflow\n",
    "        # is to just use the ShcdulerJob instance as a job\n",
    "        sub_sched,\n",
    "        Job(aprint(\"main-end\"), label=\"main-end\"),\n",
    "    )\n",
    ")"
   ]
  },
  {
   "cell_type": "markdown",
   "metadata": {},
   "source": [
    "This nested structure is rendered by both `list()` and `graph()`:"
   ]
  },
  {
   "cell_type": "code",
   "execution_count": null,
   "metadata": {
    "cell_style": "center"
   },
   "outputs": [],
   "source": [
    "# list() shows the contents of sub-schedulers implemented as Scheduler instances\n",
    "main_sched.list()"
   ]
  },
  {
   "cell_type": "markdown",
   "metadata": {},
   "source": [
    "When using a `Scheduler` to describe nested schedulers, `asynciojobs` will also produce a graphical output that properly exhibits the overall structure:"
   ]
  },
  {
   "cell_type": "markdown",
   "metadata": {},
   "source": [
    "Let us do this again another way, so that this shows up properly in *readthedocs*:"
   ]
  },
  {
   "cell_type": "code",
   "execution_count": null,
   "metadata": {},
   "outputs": [],
   "source": [
    "make_png(main_sched, \"readme-nested\")"
   ]
  },
  {
   "cell_type": "markdown",
   "metadata": {},
   "source": [
    "Here's how the main scheduler would be rendered by `graph()`:\n",
    "\n",
    "![](readme-nested.png)"
   ]
  },
  {
   "cell_type": "markdown",
   "metadata": {},
   "source": [
    "Which when executed produces this output:"
   ]
  },
  {
   "cell_type": "code",
   "execution_count": null,
   "metadata": {},
   "outputs": [],
   "source": [
    "await main_sched.co_run()"
   ]
  },
  {
   "cell_type": "markdown",
   "metadata": {},
   "source": [
    "### Benefits of nesting schedulers\n",
    "\n",
    "This feature can can come in handy to deal with issues like:\n",
    "\n",
    "* you want to be able to re-use code - as in writing a library - and nesting schedulers is a convenient way to address that; functions can return pieces of workflows implemented as schedulers, that can be easily mixed within a larger scenario;\n",
    "\n",
    "* in another dimension, nested schedulers can be a solution if\n",
    "  * you want the `jobs_window` attribute to apply to only a subset of your jobs;\n",
    "  * or you need the `timeout` attribute to apply to only a subset of your jobs;\n",
    "  * you have `forever` jobs that need to be terminated sooner than the very end of the overall scenario.\n"
   ]
  },
  {
   "cell_type": "markdown",
   "metadata": {},
   "source": [
    "### Historical note\n",
    "\n",
    "Internally, `asynciojobs` comes with the `PureScheduler` class. \n",
    "\n",
    "A `PureScheduler` instance is a fully functional scheduler, but it cannot be used as a nested scheduler.\n",
    "\n",
    "In terms of implementation, `Scheduler` is a mixin class that inherits from both `PureScheduler` and `AbstractJob`.\n",
    "\n",
    "In previous versions of this library, the `Scheduler` class could not be nested, and a specific class was required for the purpose of creating nestable schedulers, like is shown in this table:\n",
    "\n",
    "<table>\n",
    "  <thead>\n",
    "      <tr><th>version</th><th>just scheduling</th><th>nestable scheduler</th></tr>\n",
    "  </thead>\n",
    "  <tbody>\n",
    "      <tr><td><= 0.8</td><td><code>Scheduler</code></td><td>no class available</td></tr>\n",
    "      <tr><td>== 0.9</td><td><code>Scheduler</code></td><td><code>SchedulerJob</code></td></tr>\n",
    "      <tr><td>>= 0.10</td><td><code>PureScheduler</code></td><td><code>Scheduler</code></td></tr>\n",
    "  </tbody>\n",
    "</table>\n",
    "\n",
    "The bottom line is that, starting with version 0.10, users primarily do not need to worry about that, and creating only nestable `Scheduler` objects is the recommended approach."
   ]
  },
  {
   "cell_type": "markdown",
   "metadata": {},
   "source": [
    "## Other useful features on the `Scheduler` class"
   ]
  },
  {
   "cell_type": "markdown",
   "metadata": {},
   "source": [
    "###  Inspect / troubleshoot : `Scheduler.debrief()`\n",
    "\n",
    "`Scheduler.debrief()` is designed for schedulers that have run and returned `False`, it does output the same listing as `list()` but with additional statistics on the number of jobs, and, most importantly, on the stacks of jobs that have raised an exception."
   ]
  },
  {
   "cell_type": "markdown",
   "metadata": {},
   "source": [
    "### Cleanup : `Scheduler.sanitize()`\n",
    "\n",
    "In some cases like esp. test scenarios, it can be helpful to add requirements to jobs that are not in the scheduler. The `sanitize` method removes such extra requirements, and unless you are certain it is not your case, it might be a good idea to call it explcitly before an orchestration."
   ]
  },
  {
   "cell_type": "markdown",
   "metadata": {},
   "source": [
    "### Early checks : `Scheduler.check_cycles()`\n",
    "\n",
    "`check_cycles` will check for cycles in the requirements graph. It returns a boolean. It's a good idea to call it before running an orchestration."
   ]
  },
  {
   "cell_type": "markdown",
   "metadata": {},
   "source": [
    "### Need a coroutine instead ? : `Scheduler.co_run()` \n",
    "\n",
    "`run()` is a regular `def` function (i.e. not an `async def`), but in fact just a wrapper around the native coroutine called `co_run()`.\n",
    "\n",
    "```python\n",
    "def run(self, *args, **kwds):\n",
    "    with asyncio.Runner() as runner:\n",
    "        return runner.run(self.co_run(*args, **kwds))\n",
    "```"
   ]
  },
  {
   "cell_type": "markdown",
   "metadata": {},
   "source": [
    "### Cleaning up - the `shutdown()` method.\n",
    "\n",
    "Scheduler objects expose the `shutdown()` method. \n",
    "\n",
    "This method should be called explicitly by the user when resources are attached to the various jobs, and they can be released.\n",
    "\n",
    "Contrary to what was done in older versions of `asynciojobs`, where nested schedulers were not yet as massively useful, this call **needs to be explicit**, it is no longer automatically invoked by `run()` when the orchestration is over.\n",
    "\n",
    "Although such a cleanup is not really useful in the case of local `Job` instances, some application libraries like `apssh` define jobs that are attached to network connections, ssh connections in the case of `apssh`, and it is convenient to be able to terminate those connections explicitly."
   ]
  },
  {
   "cell_type": "markdown",
   "metadata": {},
   "source": [
    "### Visualization - in a notebook : `Scheduler.graph()`\n",
    "\n",
    "If you have the `graphviz` package installed, you can inspect a scheduler instance in a Jupyter notebook by using the `graph()` method, that returns a `graphviz.Digraph` instance; this way the scheduler graph can be displayed interactively in a notebook - see also <http://graphviz.readthedocs.io/en/stable/manual.html#jupyter-notebooks>.\n",
    "\n",
    "Here's a simple example:"
   ]
  },
  {
   "cell_type": "code",
   "execution_count": null,
   "metadata": {},
   "outputs": [],
   "source": [
    "# and a simple scheduler with an initialization and 2 concurrent tasks\n",
    "\n",
    "s = Scheduler()\n",
    "j1 = Job(aprint(\"j1\"), label=\"init\", critical=False, scheduler=s)\n",
    "j2 = Job(aprint(\"j2\"), label=\"critical job\", critical=True, scheduler=s, required=j1)\n",
    "j3 = Job(aprint(\"j3\"), label=\"forever job\", critical=False, forever=True, scheduler=s, required=j1)\n",
    "s.graph()"
   ]
  },
  {
   "cell_type": "markdown",
   "metadata": {},
   "source": [
    "In a regular notebook, that is all you need to do to see the scheduler's graph.\n",
    "In the case of this README though, once rendered on `readthedocs.io` the graph has got lost in translation, so please read on to see that graph."
   ]
  },
  {
   "cell_type": "markdown",
   "metadata": {},
   "source": [
    "### Visualization - the long way : `Scheduler.export_as_dotfile()`\n",
    "\n",
    "If visualizing in a notebook is not an option, or if you do not have graphviz installed, you can still produce a dotfile from a scheduler object:"
   ]
  },
  {
   "cell_type": "code",
   "execution_count": null,
   "metadata": {},
   "outputs": [],
   "source": [
    "s.export_as_dotfile('readme-dotfile.dot')"
   ]
  },
  {
   "cell_type": "markdown",
   "metadata": {},
   "source": [
    "Then later on - and possibly on another host - you can use this dot file as an input to produce a `.png` graphics, using the `dot` program (which is part of `graphviz`), like e.g.:"
   ]
  },
  {
   "cell_type": "code",
   "execution_count": null,
   "metadata": {},
   "outputs": [],
   "source": [
    "import os\n",
    "os.system(\"dot -Tpng readme-dotfile.dot -o readme-dotfile.png\")"
   ]
  },
  {
   "cell_type": "markdown",
   "metadata": {},
   "source": [
    "Which now allows us to render the graph for our last scheduler as a png file:"
   ]
  },
  {
   "cell_type": "markdown",
   "metadata": {},
   "source": [
    "![manually inserted readme](readme-dotfile.png)"
   ]
  },
  {
   "cell_type": "markdown",
   "metadata": {},
   "source": [
    "**Legend**: on this small example we can see that:\n",
    "\n",
    "* critical jobs come with a thick red border;\n",
    "* while non-critical jobs have a finer, black border;\n",
    "* forever jobs have a dotted border;\n",
    "* while usual jobs have a continuous border.\n",
    "\n",
    "Although this is not illustrated here, the same graphical legend is applicable to nested schedulers as well."
   ]
  },
  {
   "cell_type": "markdown",
   "metadata": {},
   "source": [
    "Note that if you do have `graphviz` available, you can produce a *png* file a little more simply, i.e. without the need for creating the dot file, like this:"
   ]
  },
  {
   "cell_type": "code",
   "execution_count": null,
   "metadata": {},
   "outputs": [],
   "source": [
    "# a trick to produce a png file on a box that has graphviz pip-installed\n",
    "g = s.graph()\n",
    "g.format = 'png'\n",
    "g.render('readme')"
   ]
  },
  {
   "cell_type": "markdown",
   "metadata": {},
   "source": [
    "## Troubleshooting"
   ]
  },
  {
   "cell_type": "markdown",
   "metadata": {},
   "source": [
    "As a general rule, and maybe especially when dealing with nested schedulers, it is important to keep in mind the following constraints."
   ]
  },
  {
   "cell_type": "markdown",
   "metadata": {},
   "source": [
    "### Don't insert a job in several schedulers"
   ]
  },
  {
   "cell_type": "markdown",
   "metadata": {},
   "source": [
    "One given job should be inserted in **exactly one** scheduler. Be aware that the code does not check for this, it is the programmer's responsability to enforce this rule. \n",
    "\n",
    "A job that is not inserted in any scheduler will of course never be run. \n",
    "\n",
    "A job inserted in several schedulers will most likely behave very oddly, as each scheduler will be in a position to have it move along.\n"
   ]
  },
  {
   "cell_type": "markdown",
   "metadata": {},
   "source": [
    "### You can only create requirements between jobs in the same scheduler"
   ]
  },
  {
   "cell_type": "markdown",
   "metadata": {},
   "source": [
    "With nested schedulers, it can be tempting to create dependencies between jobs that are not part of the same scheduler, but that belong in sibling or cousin schedulers. \n",
    "\n",
    "This is **currently not supported**, a job can only have requirements to **other jobs in the same scheduler**.\n",
    "\n",
    "Like for the previous topic, as of now there is no provision in the code to enforce that, and failing to comply with that rule will result in unexpected behaviour."
   ]
  },
  {
   "cell_type": "markdown",
   "metadata": {},
   "source": [
    "### Create as many job instances as needed"
   ]
  },
  {
   "cell_type": "markdown",
   "metadata": {},
   "source": [
    "Another common mistake is to try and reuse a job instance in several places in a scheduler. Each instance carries the state of the job progress, so it is important to create as many instances/copies as there are tasks, and to not try and share job objects.\n",
    "\n",
    "In particular, if you take one job instance that has completed, and try to insert it into a new scheduler, it will be considered as done, and will not run again."
   ]
  },
  {
   "cell_type": "markdown",
   "metadata": {},
   "source": [
    "### You can't run the same scheduler twice"
   ]
  },
  {
   "cell_type": "markdown",
   "metadata": {},
   "source": [
    "In much the same way, once a scheduler is done - assuming all went well - essentially all of its jobs are marked as done, and trying to run it again will either do nothing, or raise an exception."
   ]
  },
  {
   "cell_type": "markdown",
   "metadata": {},
   "source": [
    "## Customizing jobs"
   ]
  },
  {
   "cell_type": "markdown",
   "metadata": {},
   "source": [
    "### Customizing the `Job` class\n",
    "\n",
    "`Job` actually is a specializtion of `AbstractJob`, and the specification is that the `co_run()` method should denote a coroutine itself, as that is what is triggered by `Scheduler` when running said job."
   ]
  },
  {
   "cell_type": "markdown",
   "metadata": {},
   "source": [
    "### `AbstractJob.co_shutdown()`\n",
    "\n",
    "The `shutdown()` method on a scheduler sends `co_shutdown()` method on all - possibly nested - jobs. The default behaviour - in the `Job` class - is to do nothing, but this can be redefined by daughter classes of `AbstractJob` when relevant. Typically, an implementation of an `SshJob` will allow for a given SSH connection to be shared amongst several `SshJob` instances, and so `co_shutdown()` may be used to  close the underlying SSH connections."
   ]
  },
  {
   "cell_type": "markdown",
   "metadata": {},
   "source": [
    "### The `apssh`  library and the ` SshJob` class\n",
    "\n",
    "You can easily define your own `Job` class by specializing `job.AbstractJob`. As an example, which was the primary target when developping `asynciojobs`, you can find [in the `apssh` library](https://github.com/parmentelat/apssh) a `SshJob` class, with which you can easily orchestrate scenarios involving several hosts that you interact with using ssh."
   ]
  }
 ],
 "metadata": {
  "kernelspec": {
   "display_name": "Python 3 (ipykernel)",
   "language": "python",
   "name": "python3"
  },
  "language_info": {
   "codemirror_mode": {
    "name": "ipython",
    "version": 3
   },
   "file_extension": ".py",
   "mimetype": "text/x-python",
   "name": "python",
   "nbconvert_exporter": "python",
   "pygments_lexer": "ipython3",
   "version": "3.12.8"
  },
  "notebookname": "Installing",
  "version": "1.0"
 },
 "nbformat": 4,
 "nbformat_minor": 4
}
